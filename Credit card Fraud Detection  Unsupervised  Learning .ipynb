{
 "cells": [
  {
   "cell_type": "markdown",
   "id": "ed95b558",
   "metadata": {},
   "source": [
    "# Credit Card Fraud\n",
    "\n",
    "## This dataset consists of credit card transactions in the western United States. It includes information about each transaction including customer details, the merchant and category of purchase, and whether or not the transaction was a fraud. Data set from https://app.datacamp.com/workspace \n",
    "\n",
    "\n"
   ]
  },
  {
   "cell_type": "code",
   "execution_count": 2,
   "id": "5c638b68",
   "metadata": {},
   "outputs": [],
   "source": [
    "#importing libraries \n",
    "import numpy as np\n",
    "import pandas as pd\n",
    "import matplotlib.pyplot as plt\n",
    "import seaborn as sns\n",
    "import warnings\n",
    "from sklearn.model_selection import KFold, StratifiedKFold, cross_val_score\n",
    "from sklearn import linear_model, tree, ensemble"
   ]
  },
  {
   "cell_type": "markdown",
   "id": "a2de7a3f",
   "metadata": {},
   "source": [
    "importing our data"
   ]
  },
  {
   "cell_type": "code",
   "execution_count": 4,
   "id": "a8de0dee",
   "metadata": {},
   "outputs": [],
   "source": [
    "df = pd.read_csv('credict_card_data.csv')"
   ]
  },
  {
   "cell_type": "code",
   "execution_count": 5,
   "id": "e077d804",
   "metadata": {},
   "outputs": [
    {
     "data": {
      "text/html": [
       "<div>\n",
       "<style scoped>\n",
       "    .dataframe tbody tr th:only-of-type {\n",
       "        vertical-align: middle;\n",
       "    }\n",
       "\n",
       "    .dataframe tbody tr th {\n",
       "        vertical-align: top;\n",
       "    }\n",
       "\n",
       "    .dataframe thead th {\n",
       "        text-align: right;\n",
       "    }\n",
       "</style>\n",
       "<table border=\"1\" class=\"dataframe\">\n",
       "  <thead>\n",
       "    <tr style=\"text-align: right;\">\n",
       "      <th></th>\n",
       "      <th>trans_date_trans_time</th>\n",
       "      <th>merchant</th>\n",
       "      <th>category</th>\n",
       "      <th>amt</th>\n",
       "      <th>city</th>\n",
       "      <th>state</th>\n",
       "      <th>lat</th>\n",
       "      <th>long</th>\n",
       "      <th>city_pop</th>\n",
       "      <th>job</th>\n",
       "      <th>dob</th>\n",
       "      <th>trans_num</th>\n",
       "      <th>merch_lat</th>\n",
       "      <th>merch_long</th>\n",
       "      <th>is_fraud</th>\n",
       "    </tr>\n",
       "  </thead>\n",
       "  <tbody>\n",
       "    <tr>\n",
       "      <th>0</th>\n",
       "      <td>2019-01-01 00:00:44</td>\n",
       "      <td>\"Heller, Gutmann and Zieme\"</td>\n",
       "      <td>grocery_pos</td>\n",
       "      <td>107.23</td>\n",
       "      <td>Orient</td>\n",
       "      <td>WA</td>\n",
       "      <td>48.8878</td>\n",
       "      <td>-118.2105</td>\n",
       "      <td>149</td>\n",
       "      <td>Special educational needs teacher</td>\n",
       "      <td>1978-06-21</td>\n",
       "      <td>1f76529f8574734946361c461b024d99</td>\n",
       "      <td>49.159047</td>\n",
       "      <td>-118.186462</td>\n",
       "      <td>0</td>\n",
       "    </tr>\n",
       "    <tr>\n",
       "      <th>1</th>\n",
       "      <td>2019-01-01 00:00:51</td>\n",
       "      <td>Lind-Buckridge</td>\n",
       "      <td>entertainment</td>\n",
       "      <td>220.11</td>\n",
       "      <td>Malad City</td>\n",
       "      <td>ID</td>\n",
       "      <td>42.1808</td>\n",
       "      <td>-112.2620</td>\n",
       "      <td>4154</td>\n",
       "      <td>Nature conservation officer</td>\n",
       "      <td>1962-01-19</td>\n",
       "      <td>a1a22d70485983eac12b5b88dad1cf95</td>\n",
       "      <td>43.150704</td>\n",
       "      <td>-112.154481</td>\n",
       "      <td>0</td>\n",
       "    </tr>\n",
       "    <tr>\n",
       "      <th>2</th>\n",
       "      <td>2019-01-01 00:07:27</td>\n",
       "      <td>Kiehn Inc</td>\n",
       "      <td>grocery_pos</td>\n",
       "      <td>96.29</td>\n",
       "      <td>Grenada</td>\n",
       "      <td>CA</td>\n",
       "      <td>41.6125</td>\n",
       "      <td>-122.5258</td>\n",
       "      <td>589</td>\n",
       "      <td>Systems analyst</td>\n",
       "      <td>1945-12-21</td>\n",
       "      <td>413636e759663f264aae1819a4d4f231</td>\n",
       "      <td>41.657520</td>\n",
       "      <td>-122.230347</td>\n",
       "      <td>0</td>\n",
       "    </tr>\n",
       "    <tr>\n",
       "      <th>3</th>\n",
       "      <td>2019-01-01 00:09:03</td>\n",
       "      <td>Beier-Hyatt</td>\n",
       "      <td>shopping_pos</td>\n",
       "      <td>7.77</td>\n",
       "      <td>High Rolls Mountain Park</td>\n",
       "      <td>NM</td>\n",
       "      <td>32.9396</td>\n",
       "      <td>-105.8189</td>\n",
       "      <td>899</td>\n",
       "      <td>Naval architect</td>\n",
       "      <td>1967-08-30</td>\n",
       "      <td>8a6293af5ed278dea14448ded2685fea</td>\n",
       "      <td>32.863258</td>\n",
       "      <td>-106.520205</td>\n",
       "      <td>0</td>\n",
       "    </tr>\n",
       "    <tr>\n",
       "      <th>4</th>\n",
       "      <td>2019-01-01 00:21:32</td>\n",
       "      <td>Bruen-Yost</td>\n",
       "      <td>misc_pos</td>\n",
       "      <td>6.85</td>\n",
       "      <td>Freedom</td>\n",
       "      <td>WY</td>\n",
       "      <td>43.0172</td>\n",
       "      <td>-111.0292</td>\n",
       "      <td>471</td>\n",
       "      <td>\"Education officer, museum\"</td>\n",
       "      <td>1967-08-02</td>\n",
       "      <td>f3c43d336e92a44fc2fb67058d5949e3</td>\n",
       "      <td>43.753735</td>\n",
       "      <td>-111.454923</td>\n",
       "      <td>0</td>\n",
       "    </tr>\n",
       "    <tr>\n",
       "      <th>...</th>\n",
       "      <td>...</td>\n",
       "      <td>...</td>\n",
       "      <td>...</td>\n",
       "      <td>...</td>\n",
       "      <td>...</td>\n",
       "      <td>...</td>\n",
       "      <td>...</td>\n",
       "      <td>...</td>\n",
       "      <td>...</td>\n",
       "      <td>...</td>\n",
       "      <td>...</td>\n",
       "      <td>...</td>\n",
       "      <td>...</td>\n",
       "      <td>...</td>\n",
       "      <td>...</td>\n",
       "    </tr>\n",
       "    <tr>\n",
       "      <th>95</th>\n",
       "      <td>2019-01-01 06:20:49</td>\n",
       "      <td>Hudson-Ratke</td>\n",
       "      <td>grocery_pos</td>\n",
       "      <td>199.55</td>\n",
       "      <td>Littleton</td>\n",
       "      <td>CO</td>\n",
       "      <td>39.5994</td>\n",
       "      <td>-105.0044</td>\n",
       "      <td>320420</td>\n",
       "      <td>Water engineer</td>\n",
       "      <td>1975-07-31</td>\n",
       "      <td>a5c13edd756f36c026630d13672974bd</td>\n",
       "      <td>38.619691</td>\n",
       "      <td>-105.498059</td>\n",
       "      <td>0</td>\n",
       "    </tr>\n",
       "    <tr>\n",
       "      <th>96</th>\n",
       "      <td>2019-01-01 06:24:47</td>\n",
       "      <td>Harber Inc</td>\n",
       "      <td>gas_transport</td>\n",
       "      <td>94.48</td>\n",
       "      <td>Orient</td>\n",
       "      <td>WA</td>\n",
       "      <td>48.8878</td>\n",
       "      <td>-118.2105</td>\n",
       "      <td>149</td>\n",
       "      <td>Special educational needs teacher</td>\n",
       "      <td>1978-06-21</td>\n",
       "      <td>c9235f76ecb45e67372d79ecac2ffb37</td>\n",
       "      <td>49.513555</td>\n",
       "      <td>-117.819653</td>\n",
       "      <td>0</td>\n",
       "    </tr>\n",
       "    <tr>\n",
       "      <th>97</th>\n",
       "      <td>2019-01-01 06:25:07</td>\n",
       "      <td>Berge LLC</td>\n",
       "      <td>gas_transport</td>\n",
       "      <td>79.39</td>\n",
       "      <td>Mesa</td>\n",
       "      <td>ID</td>\n",
       "      <td>44.6255</td>\n",
       "      <td>-116.4493</td>\n",
       "      <td>129</td>\n",
       "      <td>Cartographer</td>\n",
       "      <td>1965-12-15</td>\n",
       "      <td>606b05a976ee2bca7323d6afc85e63ce</td>\n",
       "      <td>43.673602</td>\n",
       "      <td>-116.406060</td>\n",
       "      <td>0</td>\n",
       "    </tr>\n",
       "    <tr>\n",
       "      <th>98</th>\n",
       "      <td>2019-01-01 06:25:40</td>\n",
       "      <td>Pagac LLC</td>\n",
       "      <td>shopping_pos</td>\n",
       "      <td>5.05</td>\n",
       "      <td>Powell Butte</td>\n",
       "      <td>OR</td>\n",
       "      <td>44.2415</td>\n",
       "      <td>-121.0113</td>\n",
       "      <td>2016</td>\n",
       "      <td>Local government officer</td>\n",
       "      <td>1953-12-25</td>\n",
       "      <td>d44f496e9daab912914ac9513b038df2</td>\n",
       "      <td>44.245679</td>\n",
       "      <td>-121.333658</td>\n",
       "      <td>0</td>\n",
       "    </tr>\n",
       "    <tr>\n",
       "      <th>99</th>\n",
       "      <td>2019-01-01 06:32:36</td>\n",
       "      <td>Erdman-Kertzmann</td>\n",
       "      <td>gas_transport</td>\n",
       "      <td>69.72</td>\n",
       "      <td>Utica</td>\n",
       "      <td>MO</td>\n",
       "      <td>39.7417</td>\n",
       "      <td>-93.6289</td>\n",
       "      <td>271</td>\n",
       "      <td>Land/geomatics surveyor</td>\n",
       "      <td>1972-04-18</td>\n",
       "      <td>6ed5502e8464efee2e341959617bb656</td>\n",
       "      <td>39.053407</td>\n",
       "      <td>-93.972916</td>\n",
       "      <td>0</td>\n",
       "    </tr>\n",
       "  </tbody>\n",
       "</table>\n",
       "<p>100 rows × 15 columns</p>\n",
       "</div>"
      ],
      "text/plain": [
       "   trans_date_trans_time                     merchant       category     amt  \\\n",
       "0    2019-01-01 00:00:44  \"Heller, Gutmann and Zieme\"    grocery_pos  107.23   \n",
       "1    2019-01-01 00:00:51               Lind-Buckridge  entertainment  220.11   \n",
       "2    2019-01-01 00:07:27                    Kiehn Inc    grocery_pos   96.29   \n",
       "3    2019-01-01 00:09:03                  Beier-Hyatt   shopping_pos    7.77   \n",
       "4    2019-01-01 00:21:32                   Bruen-Yost       misc_pos    6.85   \n",
       "..                   ...                          ...            ...     ...   \n",
       "95   2019-01-01 06:20:49                 Hudson-Ratke    grocery_pos  199.55   \n",
       "96   2019-01-01 06:24:47                   Harber Inc  gas_transport   94.48   \n",
       "97   2019-01-01 06:25:07                    Berge LLC  gas_transport   79.39   \n",
       "98   2019-01-01 06:25:40                    Pagac LLC   shopping_pos    5.05   \n",
       "99   2019-01-01 06:32:36             Erdman-Kertzmann  gas_transport   69.72   \n",
       "\n",
       "                        city state      lat      long  city_pop  \\\n",
       "0                     Orient    WA  48.8878 -118.2105       149   \n",
       "1                 Malad City    ID  42.1808 -112.2620      4154   \n",
       "2                    Grenada    CA  41.6125 -122.5258       589   \n",
       "3   High Rolls Mountain Park    NM  32.9396 -105.8189       899   \n",
       "4                    Freedom    WY  43.0172 -111.0292       471   \n",
       "..                       ...   ...      ...       ...       ...   \n",
       "95                 Littleton    CO  39.5994 -105.0044    320420   \n",
       "96                    Orient    WA  48.8878 -118.2105       149   \n",
       "97                      Mesa    ID  44.6255 -116.4493       129   \n",
       "98              Powell Butte    OR  44.2415 -121.0113      2016   \n",
       "99                     Utica    MO  39.7417  -93.6289       271   \n",
       "\n",
       "                                  job         dob  \\\n",
       "0   Special educational needs teacher  1978-06-21   \n",
       "1         Nature conservation officer  1962-01-19   \n",
       "2                     Systems analyst  1945-12-21   \n",
       "3                     Naval architect  1967-08-30   \n",
       "4         \"Education officer, museum\"  1967-08-02   \n",
       "..                                ...         ...   \n",
       "95                     Water engineer  1975-07-31   \n",
       "96  Special educational needs teacher  1978-06-21   \n",
       "97                       Cartographer  1965-12-15   \n",
       "98           Local government officer  1953-12-25   \n",
       "99            Land/geomatics surveyor  1972-04-18   \n",
       "\n",
       "                           trans_num  merch_lat  merch_long  is_fraud  \n",
       "0   1f76529f8574734946361c461b024d99  49.159047 -118.186462         0  \n",
       "1   a1a22d70485983eac12b5b88dad1cf95  43.150704 -112.154481         0  \n",
       "2   413636e759663f264aae1819a4d4f231  41.657520 -122.230347         0  \n",
       "3   8a6293af5ed278dea14448ded2685fea  32.863258 -106.520205         0  \n",
       "4   f3c43d336e92a44fc2fb67058d5949e3  43.753735 -111.454923         0  \n",
       "..                               ...        ...         ...       ...  \n",
       "95  a5c13edd756f36c026630d13672974bd  38.619691 -105.498059         0  \n",
       "96  c9235f76ecb45e67372d79ecac2ffb37  49.513555 -117.819653         0  \n",
       "97  606b05a976ee2bca7323d6afc85e63ce  43.673602 -116.406060         0  \n",
       "98  d44f496e9daab912914ac9513b038df2  44.245679 -121.333658         0  \n",
       "99  6ed5502e8464efee2e341959617bb656  39.053407  -93.972916         0  \n",
       "\n",
       "[100 rows x 15 columns]"
      ]
     },
     "execution_count": 5,
     "metadata": {},
     "output_type": "execute_result"
    }
   ],
   "source": [
    "df"
   ]
  },
  {
   "cell_type": "code",
   "execution_count": 11,
   "id": "1596cbc2",
   "metadata": {},
   "outputs": [
    {
     "data": {
      "text/plain": [
       "Index(['trans_date_trans_time', 'merchant', 'category', 'amt', 'city', 'state',\n",
       "       'lat', 'long', 'city_pop', 'job', 'dob', 'trans_num', 'merch_lat',\n",
       "       'merch_long', 'is_fraud'],\n",
       "      dtype='object')"
      ]
     },
     "execution_count": 11,
     "metadata": {},
     "output_type": "execute_result"
    }
   ],
   "source": [
    "df.columns"
   ]
  },
  {
   "cell_type": "code",
   "execution_count": 21,
   "id": "38067cb1",
   "metadata": {},
   "outputs": [
    {
     "data": {
      "text/plain": [
       "0     0\n",
       "1     0\n",
       "2     0\n",
       "3     0\n",
       "4     0\n",
       "     ..\n",
       "95    0\n",
       "96    0\n",
       "97    0\n",
       "98    0\n",
       "99    0\n",
       "Name: is_fraud, Length: 100, dtype: int64"
      ]
     },
     "execution_count": 21,
     "metadata": {},
     "output_type": "execute_result"
    }
   ],
   "source": [
    "df['is_fraud']"
   ]
  },
  {
   "cell_type": "markdown",
   "id": "b59ddc64",
   "metadata": {},
   "source": [
    "# unsupervised Learning.....\n",
    "unsupervised learning was chosen because the target column('is_fraud) contains only one variable in all rows"
   ]
  },
  {
   "cell_type": "code",
   "execution_count": 22,
   "id": "b843bfbd",
   "metadata": {},
   "outputs": [],
   "source": [
    "# Importing necessary libraries\n",
    "import pandas as pd\n",
    "import matplotlib.pyplot as plt\n",
    "from sklearn.preprocessing import StandardScaler\n",
    "from sklearn.decomposition import PCA\n",
    "from sklearn.cluster import KMeans\n",
    "from sklearn.metrics import silhouette_score"
   ]
  },
  {
   "cell_type": "code",
   "execution_count": 23,
   "id": "3ce1317f",
   "metadata": {},
   "outputs": [
    {
     "name": "stdout",
     "output_type": "stream",
     "text": [
      "  trans_date_trans_time                     merchant       category     amt  \\\n",
      "0   2019-01-01 00:00:44  \"Heller, Gutmann and Zieme\"    grocery_pos  107.23   \n",
      "1   2019-01-01 00:00:51               Lind-Buckridge  entertainment  220.11   \n",
      "2   2019-01-01 00:07:27                    Kiehn Inc    grocery_pos   96.29   \n",
      "3   2019-01-01 00:09:03                  Beier-Hyatt   shopping_pos    7.77   \n",
      "4   2019-01-01 00:21:32                   Bruen-Yost       misc_pos    6.85   \n",
      "\n",
      "                       city state      lat      long  city_pop  \\\n",
      "0                    Orient    WA  48.8878 -118.2105       149   \n",
      "1                Malad City    ID  42.1808 -112.2620      4154   \n",
      "2                   Grenada    CA  41.6125 -122.5258       589   \n",
      "3  High Rolls Mountain Park    NM  32.9396 -105.8189       899   \n",
      "4                   Freedom    WY  43.0172 -111.0292       471   \n",
      "\n",
      "                                 job         dob  \\\n",
      "0  Special educational needs teacher  1978-06-21   \n",
      "1        Nature conservation officer  1962-01-19   \n",
      "2                    Systems analyst  1945-12-21   \n",
      "3                    Naval architect  1967-08-30   \n",
      "4        \"Education officer, museum\"  1967-08-02   \n",
      "\n",
      "                          trans_num  merch_lat  merch_long  is_fraud  \n",
      "0  1f76529f8574734946361c461b024d99  49.159047 -118.186462         0  \n",
      "1  a1a22d70485983eac12b5b88dad1cf95  43.150704 -112.154481         0  \n",
      "2  413636e759663f264aae1819a4d4f231  41.657520 -122.230347         0  \n",
      "3  8a6293af5ed278dea14448ded2685fea  32.863258 -106.520205         0  \n",
      "4  f3c43d336e92a44fc2fb67058d5949e3  43.753735 -111.454923         0  \n",
      "<class 'pandas.core.frame.DataFrame'>\n",
      "RangeIndex: 100 entries, 0 to 99\n",
      "Data columns (total 15 columns):\n",
      " #   Column                 Non-Null Count  Dtype  \n",
      "---  ------                 --------------  -----  \n",
      " 0   trans_date_trans_time  100 non-null    object \n",
      " 1   merchant               100 non-null    object \n",
      " 2   category               100 non-null    object \n",
      " 3   amt                    100 non-null    float64\n",
      " 4   city                   100 non-null    object \n",
      " 5   state                  100 non-null    object \n",
      " 6   lat                    100 non-null    float64\n",
      " 7   long                   100 non-null    float64\n",
      " 8   city_pop               100 non-null    int64  \n",
      " 9   job                    100 non-null    object \n",
      " 10  dob                    100 non-null    object \n",
      " 11  trans_num              100 non-null    object \n",
      " 12  merch_lat              100 non-null    float64\n",
      " 13  merch_long             100 non-null    float64\n",
      " 14  is_fraud               100 non-null    int64  \n",
      "dtypes: float64(5), int64(2), object(8)\n",
      "memory usage: 11.8+ KB\n",
      "None\n"
     ]
    }
   ],
   "source": [
    "print(df.head())  # Display the first few rows of the dataset\n",
    "print(df.info())"
   ]
  },
  {
   "cell_type": "code",
   "execution_count": 27,
   "id": "c31db082",
   "metadata": {},
   "outputs": [],
   "source": [
    "numeric_columns = df.select_dtypes(include=['float64', 'int64']).columns\n",
    "numeric_data = df[numeric_columns]\n"
   ]
  },
  {
   "cell_type": "code",
   "execution_count": 28,
   "id": "79480e51",
   "metadata": {},
   "outputs": [],
   "source": [
    "scaler = StandardScaler()\n",
    "scaled_data = scaler.fit_transform(numeric_data)\n"
   ]
  },
  {
   "cell_type": "code",
   "execution_count": 29,
   "id": "6e6339a5",
   "metadata": {},
   "outputs": [],
   "source": [
    "# Convert scaled data back to DataFrame\n",
    "scaled_df = pd.DataFrame(scaled_data, columns=numeric_columns)\n"
   ]
  },
  {
   "cell_type": "code",
   "execution_count": 30,
   "id": "434dbc97",
   "metadata": {},
   "outputs": [],
   "source": [
    "scaled_df = pd.concat([scaled_df, df.drop(columns=numeric_columns)], axis=1)"
   ]
  },
  {
   "cell_type": "code",
   "execution_count": 31,
   "id": "a94e74da",
   "metadata": {},
   "outputs": [],
   "source": [
    "# Apply PCA for dimensionality reduction\n",
    "pca = PCA(n_components=2)  # Specify the number of components you want to reduce to\n",
    "pca_data = pca.fit_transform(scaled_data)\n"
   ]
  },
  {
   "cell_type": "code",
   "execution_count": 32,
   "id": "7e9be1d9",
   "metadata": {},
   "outputs": [
    {
     "data": {
      "image/png": "[encoded data removed]",
      "text/plain": [
       "<Figure size 640x480 with 1 Axes>"
      ]
     },
     "metadata": {},
     "output_type": "display_data"
    }
   ],
   "source": [
    "# Visualization\n",
    "plt.scatter(pca_data[:, 0], pca_data[:, 1], alpha=0.5)\n",
    "plt.xlabel('Principal Component 1')\n",
    "plt.ylabel('Principal Component 2')\n",
    "plt.title('PCA Visualization')\n",
    "plt.show()"
   ]
  },
  {
   "cell_type": "code",
   "execution_count": 33,
   "id": "d097408d",
   "metadata": {},
   "outputs": [
    {
     "name": "stderr",
     "output_type": "stream",
     "text": [
      "C:\\Users\\ADDIS\\anaconda3\\Lib\\site-packages\\sklearn\\cluster\\_kmeans.py:1412: FutureWarning: The default value of `n_init` will change from 10 to 'auto' in 1.4. Set the value of `n_init` explicitly to suppress the warning\n",
      "  super()._check_params_vs_input(X, default_n_init=10)\n",
      "C:\\Users\\ADDIS\\anaconda3\\Lib\\site-packages\\sklearn\\cluster\\_kmeans.py:1436: UserWarning: KMeans is known to have a memory leak on Windows with MKL, when there are less chunks than available threads. You can avoid it by setting the environment variable OMP_NUM_THREADS=1.\n",
      "  warnings.warn(\n"
     ]
    }
   ],
   "source": [
    "# Apply KMeans clustering\n",
    "kmeans = KMeans(n_clusters=2)  # Specify the number of clusters you want\n",
    "kmeans.fit(scaled_data)\n",
    "cluster_labels = kmeans.labels_\n"
   ]
  },
  {
   "cell_type": "code",
   "execution_count": 34,
   "id": "b730cf5b",
   "metadata": {},
   "outputs": [
    {
     "name": "stdout",
     "output_type": "stream",
     "text": [
      "Silhouette Score: 0.6351155877102791\n"
     ]
    }
   ],
   "source": [
    "# Evaluate clustering using silhouette score\n",
    "silhouette_avg = silhouette_score(scaled_data, cluster_labels)\n",
    "print(f'Silhouette Score: {silhouette_avg}')"
   ]
  },
  {
   "cell_type": "code",
   "execution_count": 35,
   "id": "1081209d",
   "metadata": {},
   "outputs": [
    {
     "data": {
      "image/png": "[encoded data removed]",
      "text/plain": [
       "<Figure size 640x480 with 1 Axes>"
      ]
     },
     "metadata": {},
     "output_type": "display_data"
    }
   ],
   "source": [
    "plt.scatter(pca_data[:, 0], pca_data[:, 1], c=cluster_labels, cmap='viridis', alpha=0.5)\n",
    "plt.xlabel('Principal Component 1')\n",
    "plt.ylabel('Principal Component 2')\n",
    "plt.title('KMeans Clustering')\n",
    "plt.show()"
   ]
  },
  {
   "cell_type": "markdown",
   "id": "ade93c4a",
   "metadata": {},
   "source": [
    "# DBSCAN (Density-Based Spatial Clustering of Applications with Noise):\n",
    "\n",
    "DBSCAN is a density-based clustering algorithm that groups together closely packed points based on a threshold for the maximum distance between points (epsilon) and the minimum number of points required to form a dense region (min_samples).\n",
    "It's effective for datasets with irregular shapes and varying densities."
   ]
  },
  {
   "cell_type": "code",
   "execution_count": 36,
   "id": "6ff23fdb",
   "metadata": {},
   "outputs": [],
   "source": [
    "from sklearn.cluster import DBSCAN"
   ]
  },
  {
   "cell_type": "code",
   "execution_count": 37,
   "id": "2592ef4b",
   "metadata": {},
   "outputs": [],
   "source": [
    "epsilon = 0.5  # Distance threshold for considering two points as neighbors\n",
    "min_samples = 5  # Minimum number of points in a neighborhood for a point to be considered a core point\n",
    "dbscan = DBSCAN(eps=epsilon, min_samples=min_samples)"
   ]
  },
  {
   "cell_type": "code",
   "execution_count": 38,
   "id": "f0273fb6",
   "metadata": {},
   "outputs": [
    {
     "data": {
      "text/html": [
       "<style>#sk-container-id-1 {color: black;}#sk-container-id-1 pre{padding: 0;}#sk-container-id-1 div.sk-toggleable {background-color: white;}#sk-container-id-1 label.sk-toggleable__label {cursor: pointer;display: block;width: 100%;margin-bottom: 0;padding: 0.3em;box-sizing: border-box;text-align: center;}#sk-container-id-1 label.sk-toggleable__label-arrow:before {content: \"▸\";float: left;margin-right: 0.25em;color: #696969;}#sk-container-id-1 label.sk-toggleable__label-arrow:hover:before {color: black;}#sk-container-id-1 div.sk-estimator:hover label.sk-toggleable__label-arrow:before {color: black;}#sk-container-id-1 div.sk-toggleable__content {max-height: 0;max-width: 0;overflow: hidden;text-align: left;background-color: #f0f8ff;}#sk-container-id-1 div.sk-toggleable__content pre {margin: 0.2em;color: black;border-radius: 0.25em;background-color: #f0f8ff;}#sk-container-id-1 input.sk-toggleable__control:checked~div.sk-toggleable__content {max-height: 200px;max-width: 100%;overflow: auto;}#sk-container-id-1 input.sk-toggleable__control:checked~label.sk-toggleable__label-arrow:before {content: \"▾\";}#sk-container-id-1 div.sk-estimator input.sk-toggleable__control:checked~label.sk-toggleable__label {background-color: #d4ebff;}#sk-container-id-1 div.sk-label input.sk-toggleable__control:checked~label.sk-toggleable__label {background-color: #d4ebff;}#sk-container-id-1 input.sk-hidden--visually {border: 0;clip: rect(1px 1px 1px 1px);clip: rect(1px, 1px, 1px, 1px);height: 1px;margin: -1px;overflow: hidden;padding: 0;position: absolute;width: 1px;}#sk-container-id-1 div.sk-estimator {font-family: monospace;background-color: #f0f8ff;border: 1px dotted black;border-radius: 0.25em;box-sizing: border-box;margin-bottom: 0.5em;}#sk-container-id-1 div.sk-estimator:hover {background-color: #d4ebff;}#sk-container-id-1 div.sk-parallel-item::after {content: \"\";width: 100%;border-bottom: 1px solid gray;flex-grow: 1;}#sk-container-id-1 div.sk-label:hover label.sk-toggleable__label {background-color: #d4ebff;}#sk-container-id-1 div.sk-serial::before {content: \"\";position: absolute;border-left: 1px solid gray;box-sizing: border-box;top: 0;bottom: 0;left: 50%;z-index: 0;}#sk-container-id-1 div.sk-serial {display: flex;flex-direction: column;align-items: center;background-color: white;padding-right: 0.2em;padding-left: 0.2em;position: relative;}#sk-container-id-1 div.sk-item {position: relative;z-index: 1;}#sk-container-id-1 div.sk-parallel {display: flex;align-items: stretch;justify-content: center;background-color: white;position: relative;}#sk-container-id-1 div.sk-item::before, #sk-container-id-1 div.sk-parallel-item::before {content: \"\";position: absolute;border-left: 1px solid gray;box-sizing: border-box;top: 0;bottom: 0;left: 50%;z-index: -1;}#sk-container-id-1 div.sk-parallel-item {display: flex;flex-direction: column;z-index: 1;position: relative;background-color: white;}#sk-container-id-1 div.sk-parallel-item:first-child::after {align-self: flex-end;width: 50%;}#sk-container-id-1 div.sk-parallel-item:last-child::after {align-self: flex-start;width: 50%;}#sk-container-id-1 div.sk-parallel-item:only-child::after {width: 0;}#sk-container-id-1 div.sk-dashed-wrapped {border: 1px dashed gray;margin: 0 0.4em 0.5em 0.4em;box-sizing: border-box;padding-bottom: 0.4em;background-color: white;}#sk-container-id-1 div.sk-label label {font-family: monospace;font-weight: bold;display: inline-block;line-height: 1.2em;}#sk-container-id-1 div.sk-label-container {text-align: center;}#sk-container-id-1 div.sk-container {/* jupyter's `normalize.less` sets `[hidden] { display: none; }` but bootstrap.min.css set `[hidden] { display: none !important; }` so we also need the `!important` here to be able to override the default hidden behavior on the sphinx rendered scikit-learn.org. See: https://github.com/scikit-learn/scikit-learn/issues/21755 */display: inline-block !important;position: relative;}#sk-container-id-1 div.sk-text-repr-fallback {display: none;}</style><div id=\"sk-container-id-1\" class=\"sk-top-container\"><div class=\"sk-text-repr-fallback\"><pre>DBSCAN()</pre><b>In a Jupyter environment, please rerun this cell to show the HTML representation or trust the notebook. <br />On GitHub, the HTML representation is unable to render, please try loading this page with nbviewer.org.</b></div><div class=\"sk-container\" hidden><div class=\"sk-item\"><div class=\"sk-estimator sk-toggleable\"><input class=\"sk-toggleable__control sk-hidden--visually\" id=\"sk-estimator-id-1\" type=\"checkbox\" checked><label for=\"sk-estimator-id-1\" class=\"sk-toggleable__label sk-toggleable__label-arrow\">DBSCAN</label><div class=\"sk-toggleable__content\"><pre>DBSCAN()</pre></div></div></div></div></div>"
      ],
      "text/plain": [
       "DBSCAN()"
      ]
     },
     "execution_count": 38,
     "metadata": {},
     "output_type": "execute_result"
    }
   ],
   "source": [
    "# Fit DBSCAN to the scaled data\n",
    "dbscan.fit(scaled_data)\n"
   ]
  },
  {
   "cell_type": "code",
   "execution_count": 39,
   "id": "4320c908",
   "metadata": {},
   "outputs": [],
   "source": [
    "# Get cluster labels\n",
    "dbscan_labels = dbscan.labels_\n"
   ]
  },
  {
   "cell_type": "code",
   "execution_count": 40,
   "id": "e2d87503",
   "metadata": {},
   "outputs": [
    {
     "name": "stdout",
     "output_type": "stream",
     "text": [
      "Cluster Labels: [-1 -1  1 -1 -1 -1  0 -1 -1 -1 -1 -1 -1  0 -1 -1 -1  0 -1 -1 -1 -1 -1  0\n",
      "  0  0  1  1  1  0 -1 -1  0 -1  0 -1 -1  1 -1 -1 -1 -1 -1  1 -1  0 -1 -1\n",
      " -1 -1  0 -1  1 -1  0 -1 -1  1  0 -1 -1  0  0  0 -1  0  0  1 -1 -1  0  1\n",
      " -1 -1  1 -1 -1  0 -1 -1 -1  0 -1 -1 -1 -1 -1  0  1 -1 -1  0 -1 -1 -1 -1\n",
      " -1 -1 -1  0]\n"
     ]
    }
   ],
   "source": [
    "print(\"Cluster Labels:\", dbscan_labels)\n"
   ]
  },
  {
   "cell_type": "code",
   "execution_count": 41,
   "id": "2f8d05f1",
   "metadata": {},
   "outputs": [],
   "source": [
    "# Analyze the number of clusters and noise points\n",
    "num_clusters = len(set(dbscan_labels)) - (1 if -1 in dbscan_labels else 0)  # Exclude noise points (label -1)\n",
    "num_noise_points = list(dbscan_labels).count(-1)  # Count the number of noise points\n"
   ]
  },
  {
   "cell_type": "code",
   "execution_count": 42,
   "id": "5d8ac323",
   "metadata": {},
   "outputs": [
    {
     "name": "stdout",
     "output_type": "stream",
     "text": [
      "Number of Clusters: 2\n",
      "Number of Noise Points: 64\n"
     ]
    }
   ],
   "source": [
    "print(\"Number of Clusters:\", num_clusters)\n",
    "print(\"Number of Noise Points:\", num_noise_points)"
   ]
  },
  {
   "cell_type": "markdown",
   "id": "9553f1cb",
   "metadata": {},
   "source": [
    "### Number of Clusters: 2 clusters have been identified in the dataset. These clusters represent distinct groups of data points that exhibit similar characteristics according to the DBSCAN algorithm.\n",
    "\n",
    "Number of Noise Points: There are 64 data points classified as noise by the DBSCAN algorithm. Noise points are data points that do not belong to any cluster and are not considered part of any meaningful grouping according to the DBSCAN algorithm."
   ]
  },
  {
   "cell_type": "markdown",
   "id": "b92427d8",
   "metadata": {},
   "source": [
    "# Scatter plot showing the results of  the Unsupervised algorithm cluster "
   ]
  },
  {
   "cell_type": "code",
   "execution_count": 43,
   "id": "8da340b3",
   "metadata": {},
   "outputs": [
    {
     "data": {
      "image/png": "[encoded data removed]",
      "text/plain": [
       "<Figure size 640x480 with 2 Axes>"
      ]
     },
     "metadata": {},
     "output_type": "display_data"
    }
   ],
   "source": [
    "import matplotlib.pyplot as plt\n",
    "\n",
    "# Plot data points colored by cluster labels\n",
    "plt.scatter(pca_data[:, 0], pca_data[:, 1], c=dbscan_labels, cmap='viridis', alpha=0.5)\n",
    "plt.xlabel('Principal Component 1')\n",
    "plt.ylabel('Principal Component 2')\n",
    "plt.title('DBSCAN Clustering Results')\n",
    "plt.colorbar(label='Cluster Label')\n",
    "plt.show()\n"
   ]
  },
  {
   "cell_type": "code",
   "execution_count": null,
   "id": "660e6332",
   "metadata": {},
   "outputs": [],
   "source": []
  },
  {
   "cell_type": "markdown",
   "id": "6ce4948d",
   "metadata": {},
   "source": [
    "# Bar chart showing \n",
    "## Cluster Noise (red)\n",
    "## True Clusters(blue) "
   ]
  },
  {
   "cell_type": "code",
   "execution_count": 44,
   "id": "b06eaa0d",
   "metadata": {},
   "outputs": [
    {
     "data": {
      "image/png": "[encoded data removed]",
      "text/plain": [
       "<Figure size 640x480 with 1 Axes>"
      ]
     },
     "metadata": {},
     "output_type": "display_data"
    }
   ],
   "source": [
    "labels = ['Clusters', 'Noise Points']\n",
    "counts = [num_clusters, num_noise_points]\n",
    "\n",
    "# Create bar plot\n",
    "plt.bar(labels, counts, color=['blue', 'red'])\n",
    "plt.xlabel('Categories')\n",
    "plt.ylabel('Counts')\n",
    "plt.title('Number of Clusters and Noise Points')\n",
    "plt.show()"
   ]
  },
  {
   "cell_type": "markdown",
   "id": "e9b4303e",
   "metadata": {},
   "source": [
    "#  Bar chart showing \n",
    "### Cluster 0\n",
    "### Cluster 1 "
   ]
  },
  {
   "cell_type": "code",
   "execution_count": 45,
   "id": "94c1ee8b",
   "metadata": {},
   "outputs": [
    {
     "data": {
      "image/png": "[encoded data removed]",
      "text/plain": [
       "<Figure size 640x480 with 1 Axes>"
      ]
     },
     "metadata": {},
     "output_type": "display_data"
    }
   ],
   "source": [
    "cluster_0_count = sum(label == 0 for label in dbscan_labels)\n",
    "cluster_1_count = sum(label == 1 for label in dbscan_labels)\n",
    "\n",
    "# Data\n",
    "labels = ['Cluster 0', 'Cluster 1']\n",
    "counts = [cluster_0_count, cluster_1_count]\n",
    "\n",
    "# Create bar plot\n",
    "plt.bar(labels, counts, color=['blue', 'orange'])\n",
    "plt.xlabel('Clusters')\n",
    "plt.ylabel('Counts')\n",
    "plt.title('Number of Data Points in Clusters 0 and 1')\n",
    "plt.show()"
   ]
  },
  {
   "cell_type": "code",
   "execution_count": null,
   "id": "a5b122a9",
   "metadata": {},
   "outputs": [],
   "source": []
  },
  {
   "cell_type": "markdown",
   "id": "e42b1647",
   "metadata": {},
   "source": [
    "# Total of\n",
    "### Cluster  0\n",
    "### Cluster 1"
   ]
  },
  {
   "cell_type": "code",
   "execution_count": 46,
   "id": "195a7460",
   "metadata": {},
   "outputs": [
    {
     "name": "stdout",
     "output_type": "stream",
     "text": [
      "Number of data points in Cluster 0: 24\n",
      "Number of data points in Cluster 1: 12\n"
     ]
    }
   ],
   "source": [
    "cluster_0_count = sum(label == 0 for label in dbscan_labels)\n",
    "cluster_1_count = sum(label == 1 for label in dbscan_labels)\n",
    "\n",
    "# Print counts\n",
    "print(\"Number of data points in Cluster 0:\", cluster_0_count)\n",
    "print(\"Number of data points in Cluster 1:\", cluster_1_count)"
   ]
  },
  {
   "cell_type": "markdown",
   "id": "18df2f4d",
   "metadata": {},
   "source": [
    "# Showing the Rows labelled as 0 & 1"
   ]
  },
  {
   "cell_type": "code",
   "execution_count": 47,
   "id": "c3ba0a4f",
   "metadata": {},
   "outputs": [
    {
     "name": "stdout",
     "output_type": "stream",
     "text": [
      "Rows in Cluster 0:\n",
      "   trans_date_trans_time                          merchant       category  \\\n",
      "6    2019-01-01 00:22:18       \"Nitzsche, Kessler and Wol\"   shopping_pos   \n",
      "13   2019-01-01 00:49:25       \"Little, Gutmann and Lynch\"   shopping_net   \n",
      "17   2019-01-01 01:02:16                          Wolf Inc    grocery_pos   \n",
      "23   2019-01-01 01:23:17                       Kerluke Inc       misc_net   \n",
      "24   2019-01-01 01:23:50                       Bauch-Rayno    grocery_pos   \n",
      "25   2019-01-01 01:34:25                       Hills-Olson    grocery_net   \n",
      "29   2019-01-01 02:06:56                       Bradtke PLC    grocery_pos   \n",
      "32   2019-01-01 02:12:07   \"Bernhard, Grant and Langworth\"   shopping_pos   \n",
      "34   2019-01-01 02:13:16                        Harber Inc  gas_transport   \n",
      "45   2019-01-01 02:42:25    \"Kutch, Hermiston and Farrell\"  gas_transport   \n",
      "50   2019-01-01 03:01:34     \"Bins, Balistreri and Beatty\"   shopping_pos   \n",
      "54   2019-01-01 03:12:23                         Bins-Rice  gas_transport   \n",
      "58   2019-01-01 03:24:07                   Cummerata-Jones  gas_transport   \n",
      "61   2019-01-01 03:49:16                       Kilback LLC    grocery_pos   \n",
      "62   2019-01-01 03:54:07                   VonRueden Group    grocery_net   \n",
      "63   2019-01-01 03:56:13       \"Haley, Jewess and Bechtel\"   shopping_pos   \n",
      "65   2019-01-01 04:03:53                   Brekke and Sons  gas_transport   \n",
      "66   2019-01-01 04:08:38                        Terry-Huel   shopping_net   \n",
      "70   2019-01-01 04:26:21                    Corwin-Collins  gas_transport   \n",
      "77   2019-01-01 04:55:50  \"Connelly, Reichert and Fritsch\"  gas_transport   \n",
      "81   2019-01-01 05:02:02                  Dickinson-Rempel       misc_pos   \n",
      "87   2019-01-01 05:36:16                   Prohaska-Murray  gas_transport   \n",
      "91   2019-01-01 05:50:09                         Emard Inc  gas_transport   \n",
      "99   2019-01-01 06:32:36                  Erdman-Kertzmann  gas_transport   \n",
      "\n",
      "       amt           city state      lat      long  city_pop  \\\n",
      "6     4.02      Valentine    NE  42.8062 -100.6215      4005   \n",
      "13   83.52        Ravenna    NE  41.0233  -98.9041      2202   \n",
      "17   89.11      Meadville    MO  39.7795  -93.3014       964   \n",
      "23    1.47       Holstein    NE  40.4542  -98.6538       331   \n",
      "24  122.05    Westerville    NE  41.4193  -99.3844        73   \n",
      "25   27.03        Ballwin    MO  38.5770  -90.5255     92608   \n",
      "29   78.13      Louisiana    MO  39.4336  -91.0664      4593   \n",
      "32    1.42    Westerville    NE  41.4193  -99.3844        73   \n",
      "34   39.98     Centerview    MO  38.7897  -93.8702      2368   \n",
      "45   48.66  Weeping Water    NE  40.8731  -96.1528      1517   \n",
      "50    3.19     Mound City    MO  40.1362  -95.2138      1631   \n",
      "54   49.10    Westerville    NE  41.4193  -99.3844        73   \n",
      "58   69.30        Ballwin    MO  38.5770  -90.5255     92608   \n",
      "61   68.96      Fullerton    NE  41.3660  -98.0054      1749   \n",
      "62  105.38     North Loup    NE  41.4972  -98.7858       509   \n",
      "63    2.49       Browning    MO  40.0290  -93.1607       602   \n",
      "65   84.58       Holstein    NE  40.4542  -98.6538       331   \n",
      "66    9.52     Mound City    MO  40.1362  -95.2138      1631   \n",
      "70   50.16     Centerview    MO  38.7897  -93.8702      2368   \n",
      "77   57.36     Centerview    MO  38.7897  -93.8702      2368   \n",
      "81   16.85     Blairstown    MO  38.5319  -93.9221       467   \n",
      "87   46.66     Mound City    MO  40.1362  -95.2138      1631   \n",
      "91   32.60       Browning    MO  40.0290  -93.1607       602   \n",
      "99   69.72          Utica    MO  39.7417  -93.6289       271   \n",
      "\n",
      "                                   job         dob  \\\n",
      "6                     Network engineer  1945-03-15   \n",
      "13               \"Solicitor, Scotland\"  1974-06-21   \n",
      "17  Tourist information centre manager  1974-12-23   \n",
      "23       Telecommunications researcher  1950-08-19   \n",
      "24                    Product designer  1935-02-10   \n",
      "25          \"Engineer, communications\"  2001-07-26   \n",
      "29          \"Teacher, early years/pre\"  1940-11-11   \n",
      "32                    Product designer  1935-02-10   \n",
      "34                Electronics engineer  1989-07-17   \n",
      "45                              Dealer  1951-11-08   \n",
      "50                           Architect  1953-01-20   \n",
      "54                    Product designer  1935-02-10   \n",
      "58          \"Engineer, communications\"  2001-07-26   \n",
      "61                  \"Surveyor, mining\"  1973-05-07   \n",
      "62                 \"Nurse, children's\"  1980-09-15   \n",
      "63                      Cytogeneticist  1954-07-14   \n",
      "65       Telecommunications researcher  1950-08-19   \n",
      "66                           Architect  1953-01-20   \n",
      "70                Electronics engineer  1989-07-17   \n",
      "77                Electronics engineer  1989-07-17   \n",
      "81             Agricultural consultant  1950-05-27   \n",
      "87                           Architect  1953-01-20   \n",
      "91                      Cytogeneticist  1954-07-14   \n",
      "99             Land/geomatics surveyor  1972-04-18   \n",
      "\n",
      "                           trans_num  merch_lat  merch_long  is_fraud  \n",
      "6   20490f3f0966ce74b4aaba8dc2c4ed52  42.475590 -101.265846         0  \n",
      "13  5f7aafc802c8acb5924041bca310040f  40.992141  -98.831582         0  \n",
      "17  1cb03ad950bab1ca74b02500644ec1ba  40.773306  -92.821257         0  \n",
      "23  6569a85a160476c677bf9a4c2da40cfd  41.144860  -99.387620         0  \n",
      "24  d83aa7370cef2c7a209118f313d0b360  41.609064  -99.650276         0  \n",
      "25  011f7fc2db063dc3f63219a76e052ace  38.984909  -90.842219         0  \n",
      "29  e46a01d459665d3466b3a2148eb80f4e  40.247129  -91.699005         0  \n",
      "32  0020b02e5638ee80c7176007e1b483fa  40.790587  -99.011834         0  \n",
      "34  f8ab97ed82e0669c50d3d8a60baf9c64  38.995701  -93.569356         0  \n",
      "45  61efe8834c23dea4a334ea06a4dc293d  41.066297  -95.412102         0  \n",
      "50  20c1cf41b472000887395508c5796354  39.299707  -95.975808         0  \n",
      "54  0e83bc0fc886293d57759db709b80962  40.722191  -98.680216         0  \n",
      "58  6736a2032d3a9f612176c57e07480c5b  38.166105  -90.912756         0  \n",
      "61  b2820a9708d41515e2a1590d3cce80d4  41.182138  -98.751918         0  \n",
      "62  dc1c09ff158f17c023c59c9d9e0d196f  41.271599  -99.630652         0  \n",
      "63  d5b3a6e6afe4ff2c96b5fe0355ff8b55  39.052625  -92.428684         0  \n",
      "65  946ab3d0eaf1a37f11668ae3c1d55a2c  40.310753  -99.581023         0  \n",
      "66  771a63aaf5210acfbf5ac2403aad30af  39.790646  -95.043146         0  \n",
      "70  e95e53d1c091289a54cde0414762751d  38.964313  -93.497747         0  \n",
      "77  bc763a7872b62564b0ebb0a94e2a4f26  38.508607  -93.603368         0  \n",
      "81  021e1cf84aec0f63646565e38cb756ec  39.044320  -94.698256         0  \n",
      "87  b8e3100c6bccb605dd98a848e2c76eda  41.071606  -94.999602         0  \n",
      "91  86cad0e7682a85fa6418dde1a0a33a44  39.335685  -92.982647         0  \n",
      "99  6ed5502e8464efee2e341959617bb656  39.053407  -93.972916         0  \n",
      "\n",
      "Rows in Cluster 1:\n",
      "   trans_date_trans_time                         merchant       category  \\\n",
      "2    2019-01-01 00:07:27                        Kiehn Inc    grocery_pos   \n",
      "26   2019-01-01 01:36:06                       Durgan-Aue       misc_net   \n",
      "27   2019-01-01 01:41:39                    Pacocha-Bauch   shopping_pos   \n",
      "28   2019-01-01 01:50:31        \"Reilly, Heaney and Cole\"  gas_transport   \n",
      "37   2019-01-01 02:21:43  \"Johnston, Nikolaus and Maggio\"    grocery_net   \n",
      "43   2019-01-01 02:37:26                       Schmitt Lt       misc_net   \n",
      "52   2019-01-01 03:12:06       \"Rohan, White and Aufderh\"       misc_net   \n",
      "57   2019-01-01 03:18:00     \"Jenkins, Hauck and Friesen\"  gas_transport   \n",
      "67   2019-01-01 04:14:13                  Eichmann-Russel       misc_pos   \n",
      "71   2019-01-01 04:29:14                  Balistreri-Nade       misc_pos   \n",
      "74   2019-01-01 04:43:26                        Kutch LLC  gas_transport   \n",
      "88   2019-01-01 05:39:44                Bartoletti-Wunsch  gas_transport   \n",
      "\n",
      "      amt                city state      lat      long  city_pop  \\\n",
      "2   96.29             Grenada    CA  41.6125 -122.5258       589   \n",
      "26  23.80      Fields Landing    CA  40.7268 -124.2174       276   \n",
      "27   2.10             Grenada    CA  41.6125 -122.5258       589   \n",
      "28  67.91      Fields Landing    CA  40.7268 -124.2174       276   \n",
      "37  41.01  Blairsden-Graeagle    CA  39.8127 -120.6405      1725   \n",
      "43  29.19             Tomales    CA  38.2427 -122.9145       337   \n",
      "52   8.68           Greenview    CA  41.5403 -122.9366       308   \n",
      "57  44.68            Carlotta    CA  40.5070 -123.9743      1139   \n",
      "67  35.00          Fiddletown    CA  38.5234 -120.6763       832   \n",
      "71  22.88             Tomales    CA  38.2427 -122.9145       337   \n",
      "74  69.64             Grenada    CA  41.6125 -122.5258       589   \n",
      "88  56.65  Blairsden-Graeagle    CA  39.8127 -120.6405      1725   \n",
      "\n",
      "                                              job         dob  \\\n",
      "2                                 Systems analyst  1945-12-21   \n",
      "26                      \"Scientist, audiological\"  1929-05-06   \n",
      "27                                Systems analyst  1945-12-21   \n",
      "28                      \"Scientist, audiological\"  1929-05-06   \n",
      "37  Chartered legal executive (England and Wales)  1967-05-27   \n",
      "43                      Occupational psychologist  1954-07-05   \n",
      "52                            Call centre manager  1958-09-20   \n",
      "57                      \"Therapist, occupational\"  1951-01-15   \n",
      "67                            Immigration officer  1987-05-19   \n",
      "71                      Occupational psychologist  1954-07-05   \n",
      "74                                Systems analyst  1945-12-21   \n",
      "88  Chartered legal executive (England and Wales)  1967-05-27   \n",
      "\n",
      "                           trans_num  merch_lat  merch_long  is_fraud  \n",
      "2   413636e759663f264aae1819a4d4f231  41.657520 -122.230347         0  \n",
      "26  98fec127a1545ec4dad787e5326bd374  40.110823 -124.429537         0  \n",
      "27  53fb041938a6e239a2e1679d27a7f9c2  41.096733 -122.623454         0  \n",
      "28  8e364131ffb75a95c9a04b304c9994e4  41.137569 -123.632160         0  \n",
      "37  ff342d2dad68412cbc24eb27b2370291  39.949197 -119.792299         0  \n",
      "43  d51dc2a26160f1425df51982c6d05257  38.882246 -122.050228         0  \n",
      "52  6d76dfcd39a8262fa7b8e723e0c6cf7f  41.013729 -122.403496         0  \n",
      "57  12ef4798422ce322c149339afd3072c7  40.459474 -124.214281         0  \n",
      "67  6f2eff909c82577af2cdb75e5b9a6232  38.370985 -121.358847         0  \n",
      "71  2fcbde131cff833751dde53da54da6da  39.060101 -121.969417         0  \n",
      "74  23cd7287ce2a70d9754cc0f1263ee99f  41.673903 -123.510860         0  \n",
      "88  c198762abf80d696e56eaa0646632488  39.252120 -120.809112         0  \n"
     ]
    }
   ],
   "source": [
    "# Get the indices of rows corresponding to cluster 0 and cluster 1\n",
    "cluster_0_indices = [i for i, label in enumerate(dbscan_labels) if label == 0]\n",
    "cluster_1_indices = [i for i, label in enumerate(dbscan_labels) if label == 1]\n",
    "\n",
    "# Get the actual rows from your dataset based on the indices\n",
    "cluster_0_data = df.iloc[cluster_0_indices]\n",
    "cluster_1_data = df.iloc[cluster_1_indices]\n",
    "\n",
    "# Print the rows\n",
    "print(\"Rows in Cluster 0:\")\n",
    "print(cluster_0_data)\n",
    "\n",
    "print(\"\\nRows in Cluster 1:\")\n",
    "print(cluster_1_data)\n"
   ]
  },
  {
   "cell_type": "markdown",
   "id": "8161ccdb",
   "metadata": {},
   "source": [
    "# Showing rows Labelled as 'Noise'"
   ]
  },
  {
   "cell_type": "code",
   "execution_count": 48,
   "id": "4cc002c9",
   "metadata": {},
   "outputs": [
    {
     "name": "stdout",
     "output_type": "stream",
     "text": [
      "Rows labeled as Noise:\n",
      "   trans_date_trans_time                     merchant       category     amt  \\\n",
      "0    2019-01-01 00:00:44  \"Heller, Gutmann and Zieme\"    grocery_pos  107.23   \n",
      "1    2019-01-01 00:00:51               Lind-Buckridge  entertainment  220.11   \n",
      "3    2019-01-01 00:09:03                  Beier-Hyatt   shopping_pos    7.77   \n",
      "4    2019-01-01 00:21:32                   Bruen-Yost       misc_pos    6.85   \n",
      "5    2019-01-01 00:22:06                    Kunze Inc    grocery_pos   90.22   \n",
      "..                   ...                          ...            ...     ...   \n",
      "94   2019-01-01 06:15:18                Pacocha-Bauch   shopping_pos    1.95   \n",
      "95   2019-01-01 06:20:49                 Hudson-Ratke    grocery_pos  199.55   \n",
      "96   2019-01-01 06:24:47                   Harber Inc  gas_transport   94.48   \n",
      "97   2019-01-01 06:25:07                    Berge LLC  gas_transport   79.39   \n",
      "98   2019-01-01 06:25:40                    Pagac LLC   shopping_pos    5.05   \n",
      "\n",
      "                        city state      lat      long  city_pop  \\\n",
      "0                     Orient    WA  48.8878 -118.2105       149   \n",
      "1                 Malad City    ID  42.1808 -112.2620      4154   \n",
      "3   High Rolls Mountain Park    NM  32.9396 -105.8189       899   \n",
      "4                    Freedom    WY  43.0172 -111.0292       471   \n",
      "5                    Honokaa    HI  20.0827 -155.4880      4878   \n",
      "..                       ...   ...      ...       ...       ...   \n",
      "94                    Mendon    UT  41.7100 -111.9817      2078   \n",
      "95                 Littleton    CO  39.5994 -105.0044    320420   \n",
      "96                    Orient    WA  48.8878 -118.2105       149   \n",
      "97                      Mesa    ID  44.6255 -116.4493       129   \n",
      "98              Powell Butte    OR  44.2415 -121.0113      2016   \n",
      "\n",
      "                                  job         dob  \\\n",
      "0   Special educational needs teacher  1978-06-21   \n",
      "1         Nature conservation officer  1962-01-19   \n",
      "3                     Naval architect  1967-08-30   \n",
      "4         \"Education officer, museum\"  1967-08-02   \n",
      "5                     Physiotherapist  1966-12-03   \n",
      "..                                ...         ...   \n",
      "94          \"Scientist, audiological\"  1963-06-13   \n",
      "95                     Water engineer  1975-07-31   \n",
      "96  Special educational needs teacher  1978-06-21   \n",
      "97                       Cartographer  1965-12-15   \n",
      "98           Local government officer  1953-12-25   \n",
      "\n",
      "                           trans_num  merch_lat  merch_long  is_fraud  \n",
      "0   1f76529f8574734946361c461b024d99  49.159047 -118.186462         0  \n",
      "1   a1a22d70485983eac12b5b88dad1cf95  43.150704 -112.154481         0  \n",
      "3   8a6293af5ed278dea14448ded2685fea  32.863258 -106.520205         0  \n",
      "4   f3c43d336e92a44fc2fb67058d5949e3  43.753735 -111.454923         0  \n",
      "5   95826e3caa9e0b905294c6dae985aec1  19.560013 -156.045889         0  \n",
      "..                               ...        ...         ...       ...  \n",
      "94  dac965dc4f91c065fe36327431ead52a  41.930677 -111.044483         0  \n",
      "95  a5c13edd756f36c026630d13672974bd  38.619691 -105.498059         0  \n",
      "96  c9235f76ecb45e67372d79ecac2ffb37  49.513555 -117.819653         0  \n",
      "97  606b05a976ee2bca7323d6afc85e63ce  43.673602 -116.406060         0  \n",
      "98  d44f496e9daab912914ac9513b038df2  44.245679 -121.333658         0  \n",
      "\n",
      "[64 rows x 15 columns]\n"
     ]
    }
   ],
   "source": [
    "noise_indices = [i for i, label in enumerate(dbscan_labels) if label == -1]\n",
    "\n",
    "# Get the actual rows from your dataset based on the indices\n",
    "noise_data = df.iloc[noise_indices]\n",
    "\n",
    "# Print the rows labeled as noise\n",
    "print(\"Rows labeled as Noise:\")\n",
    "print(noise_data)"
   ]
  },
  {
   "cell_type": "code",
   "execution_count": null,
   "id": "ee199eb6",
   "metadata": {},
   "outputs": [],
   "source": []
  }
 ],
 "metadata": {
  "kernelspec": {
   "display_name": "Python 3 (ipykernel)",
   "language": "python",
   "name": "python3"
  },
  "language_info": {
   "codemirror_mode": {
    "name": "ipython",
    "version": 3
   },
   "file_extension": ".py",
   "mimetype": "text/x-python",
   "name": "python",
   "nbconvert_exporter": "python",
   "pygments_lexer": "ipython3",
   "version": "3.11.5"
  }
 },
 "nbformat": 4,
 "nbformat_minor": 5
}
